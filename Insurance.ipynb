{
 "cells": [
  {
   "cell_type": "code",
   "execution_count": 2,
   "id": "1582b94e",
   "metadata": {},
   "outputs": [
    {
     "name": "stdout",
     "output_type": "stream",
     "text": [
      "Collecting tabulate\n",
      "  Downloading tabulate-0.9.0-py3-none-any.whl (35 kB)\n",
      "Installing collected packages: tabulate\n",
      "Successfully installed tabulate-0.9.0\n"
     ]
    }
   ],
   "source": [
    "!pip install tabulate"
   ]
  },
  {
   "cell_type": "code",
   "execution_count": 78,
   "id": "f1f890d8",
   "metadata": {},
   "outputs": [],
   "source": [
    "import pandas as pd\n",
    "import numpy as np\n",
    "from tabulate import tabulate\n",
    "import seaborn as sns\n",
    "import matplotlib.pyplot as plt\n",
    "from scipy.stats import norm,expon,t,ttest_ind,norm\n",
    "from statsmodels.stats.proportion import proportions_ztest"
   ]
  },
  {
   "cell_type": "code",
   "execution_count": 6,
   "id": "e8b39a70",
   "metadata": {},
   "outputs": [
    {
     "data": {
      "text/html": [
       "<div>\n",
       "<style scoped>\n",
       "    .dataframe tbody tr th:only-of-type {\n",
       "        vertical-align: middle;\n",
       "    }\n",
       "\n",
       "    .dataframe tbody tr th {\n",
       "        vertical-align: top;\n",
       "    }\n",
       "\n",
       "    .dataframe thead th {\n",
       "        text-align: right;\n",
       "    }\n",
       "</style>\n",
       "<table border=\"1\" class=\"dataframe\">\n",
       "  <thead>\n",
       "    <tr style=\"text-align: right;\">\n",
       "      <th></th>\n",
       "      <th>age</th>\n",
       "      <th>sex</th>\n",
       "      <th>bmi</th>\n",
       "      <th>children</th>\n",
       "      <th>smoker</th>\n",
       "      <th>region</th>\n",
       "      <th>charges</th>\n",
       "    </tr>\n",
       "  </thead>\n",
       "  <tbody>\n",
       "    <tr>\n",
       "      <th>0</th>\n",
       "      <td>19</td>\n",
       "      <td>female</td>\n",
       "      <td>27.900</td>\n",
       "      <td>0</td>\n",
       "      <td>yes</td>\n",
       "      <td>southwest</td>\n",
       "      <td>16884.92400</td>\n",
       "    </tr>\n",
       "    <tr>\n",
       "      <th>1</th>\n",
       "      <td>18</td>\n",
       "      <td>male</td>\n",
       "      <td>33.770</td>\n",
       "      <td>1</td>\n",
       "      <td>no</td>\n",
       "      <td>southeast</td>\n",
       "      <td>1725.55230</td>\n",
       "    </tr>\n",
       "    <tr>\n",
       "      <th>2</th>\n",
       "      <td>28</td>\n",
       "      <td>male</td>\n",
       "      <td>33.000</td>\n",
       "      <td>3</td>\n",
       "      <td>no</td>\n",
       "      <td>southeast</td>\n",
       "      <td>4449.46200</td>\n",
       "    </tr>\n",
       "    <tr>\n",
       "      <th>3</th>\n",
       "      <td>33</td>\n",
       "      <td>male</td>\n",
       "      <td>22.705</td>\n",
       "      <td>0</td>\n",
       "      <td>no</td>\n",
       "      <td>northwest</td>\n",
       "      <td>21984.47061</td>\n",
       "    </tr>\n",
       "    <tr>\n",
       "      <th>4</th>\n",
       "      <td>32</td>\n",
       "      <td>male</td>\n",
       "      <td>28.880</td>\n",
       "      <td>0</td>\n",
       "      <td>no</td>\n",
       "      <td>northwest</td>\n",
       "      <td>3866.85520</td>\n",
       "    </tr>\n",
       "  </tbody>\n",
       "</table>\n",
       "</div>"
      ],
      "text/plain": [
       "   age     sex     bmi  children smoker     region      charges\n",
       "0   19  female  27.900         0    yes  southwest  16884.92400\n",
       "1   18    male  33.770         1     no  southeast   1725.55230\n",
       "2   28    male  33.000         3     no  southeast   4449.46200\n",
       "3   33    male  22.705         0     no  northwest  21984.47061\n",
       "4   32    male  28.880         0     no  northwest   3866.85520"
      ]
     },
     "execution_count": 6,
     "metadata": {},
     "output_type": "execute_result"
    }
   ],
   "source": [
    "insurance_data = pd.read_csv(\"insurance.csv\")\n",
    "insurance_data.head()"
   ]
  },
  {
   "cell_type": "code",
   "execution_count": 5,
   "id": "6a2f1e3e",
   "metadata": {},
   "outputs": [
    {
     "data": {
      "text/html": [
       "<div>\n",
       "<style scoped>\n",
       "    .dataframe tbody tr th:only-of-type {\n",
       "        vertical-align: middle;\n",
       "    }\n",
       "\n",
       "    .dataframe tbody tr th {\n",
       "        vertical-align: top;\n",
       "    }\n",
       "\n",
       "    .dataframe thead th {\n",
       "        text-align: right;\n",
       "    }\n",
       "</style>\n",
       "<table border=\"1\" class=\"dataframe\">\n",
       "  <thead>\n",
       "    <tr style=\"text-align: right;\">\n",
       "      <th></th>\n",
       "      <th>age</th>\n",
       "      <th>bmi</th>\n",
       "      <th>children</th>\n",
       "      <th>charges</th>\n",
       "    </tr>\n",
       "  </thead>\n",
       "  <tbody>\n",
       "    <tr>\n",
       "      <th>count</th>\n",
       "      <td>1338.000000</td>\n",
       "      <td>1338.000000</td>\n",
       "      <td>1338.000000</td>\n",
       "      <td>1338.000000</td>\n",
       "    </tr>\n",
       "    <tr>\n",
       "      <th>mean</th>\n",
       "      <td>39.207025</td>\n",
       "      <td>30.663397</td>\n",
       "      <td>1.094918</td>\n",
       "      <td>13270.422265</td>\n",
       "    </tr>\n",
       "    <tr>\n",
       "      <th>std</th>\n",
       "      <td>14.049960</td>\n",
       "      <td>6.098187</td>\n",
       "      <td>1.205493</td>\n",
       "      <td>12110.011237</td>\n",
       "    </tr>\n",
       "    <tr>\n",
       "      <th>min</th>\n",
       "      <td>18.000000</td>\n",
       "      <td>15.960000</td>\n",
       "      <td>0.000000</td>\n",
       "      <td>1121.873900</td>\n",
       "    </tr>\n",
       "    <tr>\n",
       "      <th>25%</th>\n",
       "      <td>27.000000</td>\n",
       "      <td>26.296250</td>\n",
       "      <td>0.000000</td>\n",
       "      <td>4740.287150</td>\n",
       "    </tr>\n",
       "    <tr>\n",
       "      <th>50%</th>\n",
       "      <td>39.000000</td>\n",
       "      <td>30.400000</td>\n",
       "      <td>1.000000</td>\n",
       "      <td>9382.033000</td>\n",
       "    </tr>\n",
       "    <tr>\n",
       "      <th>75%</th>\n",
       "      <td>51.000000</td>\n",
       "      <td>34.693750</td>\n",
       "      <td>2.000000</td>\n",
       "      <td>16639.912515</td>\n",
       "    </tr>\n",
       "    <tr>\n",
       "      <th>max</th>\n",
       "      <td>64.000000</td>\n",
       "      <td>53.130000</td>\n",
       "      <td>5.000000</td>\n",
       "      <td>63770.428010</td>\n",
       "    </tr>\n",
       "  </tbody>\n",
       "</table>\n",
       "</div>"
      ],
      "text/plain": [
       "               age          bmi     children       charges\n",
       "count  1338.000000  1338.000000  1338.000000   1338.000000\n",
       "mean     39.207025    30.663397     1.094918  13270.422265\n",
       "std      14.049960     6.098187     1.205493  12110.011237\n",
       "min      18.000000    15.960000     0.000000   1121.873900\n",
       "25%      27.000000    26.296250     0.000000   4740.287150\n",
       "50%      39.000000    30.400000     1.000000   9382.033000\n",
       "75%      51.000000    34.693750     2.000000  16639.912515\n",
       "max      64.000000    53.130000     5.000000  63770.428010"
      ]
     },
     "execution_count": 5,
     "metadata": {},
     "output_type": "execute_result"
    }
   ],
   "source": [
    "insurance_data.describe()"
   ]
  },
  {
   "cell_type": "markdown",
   "id": "6dacddcf",
   "metadata": {},
   "source": [
    "## **ANALISA DESCRIPTIVE ANALITIC**"
   ]
  },
  {
   "cell_type": "code",
   "execution_count": 14,
   "id": "67334a6a",
   "metadata": {},
   "outputs": [
    {
     "name": "stdout",
     "output_type": "stream",
     "text": [
      "Rata-rata umur pengguna asuransi adalah 39\n"
     ]
    }
   ],
   "source": [
    "# Berapa rata-rata umur pengguna asuransi?\n",
    "\n",
    "soal_1 = round(insurance_data['age'].mean())\n",
    "\n",
    "print('Rata-rata umur pengguna asuransi adalah', soal_1)"
   ]
  },
  {
   "cell_type": "code",
   "execution_count": 15,
   "id": "c529b4eb",
   "metadata": {},
   "outputs": [
    {
     "name": "stdout",
     "output_type": "stream",
     "text": [
      "Rata-rata umur pengguna asuransi yang merokok adalah 39\n"
     ]
    }
   ],
   "source": [
    "# Berapa rata - rata umur pengguna asuransi yang merokok?\n",
    "\n",
    "soal_2 = round(insurance_data.age[insurance_data['smoker']=='yes'].mean())\n",
    "\n",
    "print('Rata-rata umur pengguna asuransi yang merokok adalah', soal_2)"
   ]
  },
  {
   "cell_type": "code",
   "execution_count": 19,
   "id": "5cbd9015",
   "metadata": {},
   "outputs": [
    {
     "name": "stdout",
     "output_type": "stream",
     "text": [
      "Rata-rata nilai BMI pengguna asuransi pada data adalah 30.66\n"
     ]
    }
   ],
   "source": [
    "# Berapa rata-rata nilai BMI pengguna asuransi pada data insurance tersebut\n",
    "\n",
    "print('Rata-rata nilai BMI pengguna asuransi pada data adalah %.2f' %(insurance_data['bmi'].mean()))"
   ]
  },
  {
   "cell_type": "code",
   "execution_count": 22,
   "id": "2d53c8f3",
   "metadata": {},
   "outputs": [
    {
     "name": "stdout",
     "output_type": "stream",
     "text": [
      "Rata-rata nilai BMI pengguna yang merokok adalah 30.71\n"
     ]
    }
   ],
   "source": [
    "# Berapa rata-rata nilai BMI pengguna asuransi yang merokok pada data insurance tersebut\n",
    "\n",
    "print('Rata-rata nilai BMI pengguna yang merokok adalah %.2f'% insurance_data.bmi[insurance_data['smoker']=='yes'].mean())"
   ]
  },
  {
   "cell_type": "code",
   "execution_count": 23,
   "id": "06f1d91e",
   "metadata": {},
   "outputs": [
    {
     "name": "stdout",
     "output_type": "stream",
     "text": [
      "Rata-rata umur perokok perempuan 39\n",
      "Rata-rata umur perokok laki-laki 38\n"
     ]
    }
   ],
   "source": [
    "# Perbandingan rata-rata umur perempuan dan laki-laki yang merokok\n",
    "smoker = insurance_data[insurance_data['smoker']=='yes']\n",
    "print('Rata-rata umur perokok perempuan', round(smoker.age[smoker['sex']=='female'].mean()))\n",
    "print('Rata-rata umur perokok laki-laki', round(smoker.age[smoker['sex']=='male'].mean()))"
   ]
  },
  {
   "cell_type": "code",
   "execution_count": 27,
   "id": "95969d26",
   "metadata": {},
   "outputs": [
    {
     "name": "stdout",
     "output_type": "stream",
     "text": [
      "Rata-rata tagihan kesehatan perokok 32050\n",
      "Rata-rata tagihan kesehatan non perokok 8434\n"
     ]
    }
   ],
   "source": [
    "# Perbedaan rata-rata tagihan kesehatan perokok dan non perokok\n",
    "print('Rata-rata tagihan kesehatan perokok', round(insurance_data.charges[insurance_data['smoker']=='yes'].mean()))\n",
    "print('Rata-rata tagihan kesehatan non perokok', round(insurance_data.charges[insurance_data['smoker']=='no'].mean()))"
   ]
  },
  {
   "cell_type": "code",
   "execution_count": 30,
   "id": "3dfe06c9",
   "metadata": {},
   "outputs": [
    {
     "name": "stdout",
     "output_type": "stream",
     "text": [
      "Rata-rata tagihan kesehatan perokok dengan BMI diatas 25: 35117\n",
      "Rata-rata tagihan kesehatan non perokok dengan BMI diatas 25: 8630\n"
     ]
    }
   ],
   "source": [
    "# Perbandingan rata-rata tagihan kesehatan perokok dan non perokok dengan BMI diatas 25\n",
    "bmi25 = insurance_data[insurance_data['bmi']>25]\n",
    "print('Rata-rata tagihan kesehatan perokok dengan BMI diatas 25:', round(bmi25.charges[bmi25['smoker']=='yes'].mean()))\n",
    "print('Rata-rata tagihan kesehatan non perokok dengan BMI diatas 25:', round(bmi25.charges[bmi25['smoker']=='no'].mean()))"
   ]
  },
  {
   "cell_type": "code",
   "execution_count": 34,
   "id": "f445b836",
   "metadata": {},
   "outputs": [
    {
     "name": "stdout",
     "output_type": "stream",
     "text": [
      "Rata-rata BMI perempuan 30.38\n",
      "Rata-rata BMI laki-laki 30.94\n"
     ]
    }
   ],
   "source": [
    "# Perbandingan BMI berdasarkan jenis kelamin\n",
    "print('Rata-rata BMI perempuan %.2f'% insurance_data.bmi[insurance_data['sex']=='female'].mean())\n",
    "print('Rata-rata BMI laki-laki %.2f'% insurance_data.bmi[insurance_data['sex']=='male'].mean())"
   ]
  },
  {
   "cell_type": "code",
   "execution_count": 35,
   "id": "f5256633",
   "metadata": {},
   "outputs": [
    {
     "name": "stdout",
     "output_type": "stream",
     "text": [
      "Rata-rata BMI perokok 30.71\n",
      "Rata-rata BMI non perokok 30.65\n"
     ]
    }
   ],
   "source": [
    "# Perbandingan BMI berdasarkan smoker dan non smoker\n",
    "print('Rata-rata BMI perokok %.2f'% insurance_data.bmi[insurance_data['smoker']=='yes'].mean())\n",
    "print('Rata-rata BMI non perokok %.2f'% insurance_data.bmi[insurance_data['smoker']=='no'].mean())"
   ]
  },
  {
   "cell_type": "markdown",
   "id": "57fdbccb",
   "metadata": {},
   "source": [
    "## **ANALISA VARIABEL KATEGORIK**"
   ]
  },
  {
   "cell_type": "code",
   "execution_count": 45,
   "id": "a8dc83cf",
   "metadata": {},
   "outputs": [
    {
     "name": "stdout",
     "output_type": "stream",
     "text": [
      "Besaran tagihan perempuan adalah 8321061.00\n",
      "Besaran tagihan laki-laki adalah 9434764.00\n"
     ]
    }
   ],
   "source": [
    "# Besaran tagihan antara perempuan dan laki-laki\n",
    "pr = round(insurance_data.charges[insurance_data['sex']=='female'].sum())\n",
    "lk = round(insurance_data.charges[insurance_data['sex']=='male'].sum())\n",
    "print('Besaran tagihan perempuan adalah %.2f'%pr)\n",
    "print('Besaran tagihan laki-laki adalah %.2f'%lk)"
   ]
  },
  {
   "cell_type": "code",
   "execution_count": 42,
   "id": "c8554f67",
   "metadata": {},
   "outputs": [
    {
     "name": "stdout",
     "output_type": "stream",
     "text": [
      "persentase besaran tagihan perempuan adalah 0.47\n",
      "persentase besaran tagihan laki-laki adalah 0.53\n"
     ]
    }
   ],
   "source": [
    "# persentase besaran tagihan antara perempuan dan laki-laki\n",
    "total_charges = insurance_data.charges.sum()\n",
    "pr = insurance_data.charges[insurance_data['sex']=='female'].sum()/total_charges\n",
    "lk = insurance_data.charges[insurance_data['sex']=='male'].sum()/total_charges\n",
    "print('persentase besaran tagihan perempuan adalah %.2f'%pr)\n",
    "print('persentase besaran tagihan laki-laki adalah %.2f'%lk)"
   ]
  },
  {
   "cell_type": "code",
   "execution_count": 50,
   "id": "f462a457",
   "metadata": {},
   "outputs": [
    {
     "data": {
      "text/html": [
       "<div>\n",
       "<style scoped>\n",
       "    .dataframe tbody tr th:only-of-type {\n",
       "        vertical-align: middle;\n",
       "    }\n",
       "\n",
       "    .dataframe tbody tr th {\n",
       "        vertical-align: top;\n",
       "    }\n",
       "\n",
       "    .dataframe thead th {\n",
       "        text-align: right;\n",
       "    }\n",
       "</style>\n",
       "<table border=\"1\" class=\"dataframe\">\n",
       "  <thead>\n",
       "    <tr style=\"text-align: right;\">\n",
       "      <th></th>\n",
       "      <th>region</th>\n",
       "      <th>charges</th>\n",
       "      <th>total_charges</th>\n",
       "      <th>probability</th>\n",
       "    </tr>\n",
       "  </thead>\n",
       "  <tbody>\n",
       "    <tr>\n",
       "      <th>0</th>\n",
       "      <td>northeast</td>\n",
       "      <td>4.343669e+06</td>\n",
       "      <td>1.775582e+07</td>\n",
       "      <td>0.244633</td>\n",
       "    </tr>\n",
       "    <tr>\n",
       "      <th>1</th>\n",
       "      <td>northwest</td>\n",
       "      <td>4.035712e+06</td>\n",
       "      <td>1.775582e+07</td>\n",
       "      <td>0.227289</td>\n",
       "    </tr>\n",
       "    <tr>\n",
       "      <th>2</th>\n",
       "      <td>southeast</td>\n",
       "      <td>5.363690e+06</td>\n",
       "      <td>1.775582e+07</td>\n",
       "      <td>0.302081</td>\n",
       "    </tr>\n",
       "    <tr>\n",
       "      <th>3</th>\n",
       "      <td>southwest</td>\n",
       "      <td>4.012755e+06</td>\n",
       "      <td>1.775582e+07</td>\n",
       "      <td>0.225997</td>\n",
       "    </tr>\n",
       "  </tbody>\n",
       "</table>\n",
       "</div>"
      ],
      "text/plain": [
       "      region       charges  total_charges  probability\n",
       "0  northeast  4.343669e+06   1.775582e+07     0.244633\n",
       "1  northwest  4.035712e+06   1.775582e+07     0.227289\n",
       "2  southeast  5.363690e+06   1.775582e+07     0.302081\n",
       "3  southwest  4.012755e+06   1.775582e+07     0.225997"
      ]
     },
     "execution_count": 50,
     "metadata": {},
     "output_type": "execute_result"
    }
   ],
   "source": [
    "# Distribusi peluang tagihan di tiap-tiap region\n",
    "prob_by_region = insurance_data.groupby(['region']).sum()[['charges']]\n",
    "prob_by_region = prob_by_region.reset_index()\n",
    "prob_by_region['total_charges'] = prob_by_region['charges'].sum()\n",
    "prob_by_region['probability'] = prob_by_region['charges'] / prob_by_region['total_charges'] \n",
    "prob_by_region"
   ]
  },
  {
   "cell_type": "code",
   "execution_count": 59,
   "id": "4a4f6ead",
   "metadata": {},
   "outputs": [
    {
     "data": {
      "image/png": "[encoded data removed]",
      "text/plain": [
       "<Figure size 576x360 with 1 Axes>"
      ]
     },
     "metadata": {
      "needs_background": "light"
     },
     "output_type": "display_data"
    }
   ],
   "source": [
    "flatui = [\"#f6e58d\", \"#ff7979\", \"#f9ca24\", \"#686de0\"]\n",
    "\n",
    "sns.set_palette(flatui)\n",
    "\n",
    "plt.figure(figsize=(8,5))\n",
    "sns.barplot(x='region', y='probability', data=prob_by_region, palette=sns.color_palette())\n",
    "\n",
    "x = prob_by_region['region']\n",
    "y = prob_by_region['probability']\n",
    "\n",
    "x_numbers = range(len(x))\n",
    "for i in x_numbers:\n",
    "    plt.text(x = x_numbers[i]-0.112, y = y[i]+0.01, s = round(y[i], 3), size = 12) # add data points\n",
    "    \n",
    "plt.ylim(0, 0.4);\n",
    "plt.title('Probability Distribution by Region')\n",
    "plt.show()"
   ]
  },
  {
   "cell_type": "code",
   "execution_count": 61,
   "id": "971e6428",
   "metadata": {},
   "outputs": [
    {
     "data": {
      "text/html": [
       "<div>\n",
       "<style scoped>\n",
       "    .dataframe tbody tr th:only-of-type {\n",
       "        vertical-align: middle;\n",
       "    }\n",
       "\n",
       "    .dataframe tbody tr th {\n",
       "        vertical-align: top;\n",
       "    }\n",
       "\n",
       "    .dataframe thead th {\n",
       "        text-align: right;\n",
       "    }\n",
       "</style>\n",
       "<table border=\"1\" class=\"dataframe\">\n",
       "  <thead>\n",
       "    <tr style=\"text-align: right;\">\n",
       "      <th></th>\n",
       "      <th>region</th>\n",
       "      <th>charges</th>\n",
       "      <th>total_charges</th>\n",
       "      <th>proportion</th>\n",
       "    </tr>\n",
       "  </thead>\n",
       "  <tbody>\n",
       "    <tr>\n",
       "      <th>0</th>\n",
       "      <td>northeast</td>\n",
       "      <td>324</td>\n",
       "      <td>1338</td>\n",
       "      <td>24.215247</td>\n",
       "    </tr>\n",
       "    <tr>\n",
       "      <th>1</th>\n",
       "      <td>northwest</td>\n",
       "      <td>325</td>\n",
       "      <td>1338</td>\n",
       "      <td>24.289985</td>\n",
       "    </tr>\n",
       "    <tr>\n",
       "      <th>2</th>\n",
       "      <td>southeast</td>\n",
       "      <td>364</td>\n",
       "      <td>1338</td>\n",
       "      <td>27.204783</td>\n",
       "    </tr>\n",
       "    <tr>\n",
       "      <th>3</th>\n",
       "      <td>southwest</td>\n",
       "      <td>325</td>\n",
       "      <td>1338</td>\n",
       "      <td>24.289985</td>\n",
       "    </tr>\n",
       "  </tbody>\n",
       "</table>\n",
       "</div>"
      ],
      "text/plain": [
       "      region  charges  total_charges  proportion\n",
       "0  northeast      324           1338   24.215247\n",
       "1  northwest      325           1338   24.289985\n",
       "2  southeast      364           1338   27.204783\n",
       "3  southwest      325           1338   24.289985"
      ]
     },
     "execution_count": 61,
     "metadata": {},
     "output_type": "execute_result"
    }
   ],
   "source": [
    "# 2.3 Proporsi data tiap region\n",
    "proportion = insurance_data.groupby(['region']).count()[['charges']]\n",
    "proportion = proportion.reset_index()\n",
    "proportion['total_charges'] = proportion['charges'].sum()\n",
    "proportion['proportion'] = (proportion['charges'] / proportion['total_charges'])*100\n",
    "proportion"
   ]
  },
  {
   "cell_type": "code",
   "execution_count": 63,
   "id": "1f9a33ab",
   "metadata": {},
   "outputs": [
    {
     "data": {
      "image/png": "[encoded data removed]",
      "text/plain": [
       "<Figure size 576x360 with 1 Axes>"
      ]
     },
     "metadata": {
      "needs_background": "light"
     },
     "output_type": "display_data"
    }
   ],
   "source": [
    "sns.set_palette(flatui)\n",
    "\n",
    "plt.figure(figsize=(8,5))\n",
    "sns.barplot(x='region', y='proportion', data=proportion, palette=sns.color_palette())\n",
    "\n",
    "x = proportion['region']\n",
    "y = proportion['proportion']\n",
    "\n",
    "x_numbers = range(len(x))\n",
    "for i in x_numbers:\n",
    "    plt.text(x = x_numbers[i]-0.15, y = y[i]+0.37, s = round(y[i], 3), size = 12) # add data points\n",
    "    \n",
    "plt.ylim(0, 30);\n",
    "plt.title('Propotion in (%) by Region')\n",
    "plt.show()"
   ]
  },
  {
   "cell_type": "code",
   "execution_count": 104,
   "id": "1de2ec0d",
   "metadata": {},
   "outputs": [
    {
     "data": {
      "text/html": [
       "<div>\n",
       "<style scoped>\n",
       "    .dataframe tbody tr th:only-of-type {\n",
       "        vertical-align: middle;\n",
       "    }\n",
       "\n",
       "    .dataframe tbody tr th {\n",
       "        vertical-align: top;\n",
       "    }\n",
       "\n",
       "    .dataframe thead th {\n",
       "        text-align: right;\n",
       "    }\n",
       "</style>\n",
       "<table border=\"1\" class=\"dataframe\">\n",
       "  <thead>\n",
       "    <tr style=\"text-align: right;\">\n",
       "      <th></th>\n",
       "      <th>smoker</th>\n",
       "      <th>charges</th>\n",
       "      <th>total_charges</th>\n",
       "      <th>smoke_prop</th>\n",
       "    </tr>\n",
       "  </thead>\n",
       "  <tbody>\n",
       "    <tr>\n",
       "      <th>0</th>\n",
       "      <td>no</td>\n",
       "      <td>1064</td>\n",
       "      <td>1338</td>\n",
       "      <td>79.521674</td>\n",
       "    </tr>\n",
       "    <tr>\n",
       "      <th>1</th>\n",
       "      <td>yes</td>\n",
       "      <td>274</td>\n",
       "      <td>1338</td>\n",
       "      <td>20.478326</td>\n",
       "    </tr>\n",
       "  </tbody>\n",
       "</table>\n",
       "</div>"
      ],
      "text/plain": [
       "  smoker  charges  total_charges  smoke_prop\n",
       "0     no     1064           1338   79.521674\n",
       "1    yes      274           1338   20.478326"
      ]
     },
     "execution_count": 104,
     "metadata": {},
     "output_type": "execute_result"
    }
   ],
   "source": [
    "# 2.4 Proporsi perokok VS. non perokok\n",
    "df_smoke_VS_non = insurance_data.groupby(['smoker']).count()[['charges']]\n",
    "df_smoke_VS_non = df_smoke_VS_non.reset_index()\n",
    "df_smoke_VS_non['total_charges'] = df_smoke_VS_non['charges'].sum()\n",
    "df_smoke_VS_non['smoke_prop'] = (df_smoke_VS_non['charges'] / df_smoke_VS_non['total_charges'])*100\n",
    "df_smoke_VS_non"
   ]
  },
  {
   "cell_type": "code",
   "execution_count": 105,
   "id": "5c37eaa4",
   "metadata": {},
   "outputs": [
    {
     "data": {
      "image/png": "[encoded data removed]",
      "text/plain": [
       "<Figure size 576x360 with 1 Axes>"
      ]
     },
     "metadata": {
      "needs_background": "light"
     },
     "output_type": "display_data"
    }
   ],
   "source": [
    "plt.figure(figsize=(8,5))\n",
    "sns.barplot(x='smoker', y='smoke_prop', data=df_smoke_VS_non, palette=sns.color_palette())\n",
    "\n",
    "\n",
    "x = df_smoke_VS_non['smoker']\n",
    "y = df_smoke_VS_non['smoke_prop']\n",
    "\n",
    "x_numbers = range(len(x))\n",
    "for i in x_numbers:\n",
    "    plt.text(x = x_numbers[i]-0.12, y = y[i]+1, s = round(y[i], 3), size = 12) # add data points\n",
    "    \n",
    "plt.ylim(0, 100);\n",
    "plt.title('Smoker VS. Non-Smoker Proportion (%)')\n",
    "plt.show()"
   ]
  },
  {
   "cell_type": "code",
   "execution_count": 67,
   "id": "2bd110d0",
   "metadata": {},
   "outputs": [
    {
     "name": "stdout",
     "output_type": "stream",
     "text": [
      "Peluang perokok perempuan adalah 0.17\n",
      "Peluang perokok laki-laki adalah 0.24\n",
      "\n"
     ]
    }
   ],
   "source": [
    "# Peluang Perokok Perempuan \n",
    "data_pr = insurance_data[insurance_data['sex']=='female']\n",
    "count_pr = data_pr['smoker'].count()\n",
    "smoker_pr = data_pr.smoker[data_pr['smoker']=='yes'].count()/count_pr\n",
    "\n",
    "# Peluang Perokok Laki-Laki\n",
    "data_lk = insurance_data[insurance_data['sex']=='male']\n",
    "count_lk = data_lk['smoker'].count()\n",
    "smoker_lk = data_lk.smoker[data_lk['smoker']=='yes'].count()/count_lk\n",
    "\n",
    "print(f'Peluang perokok perempuan adalah %.2f'%smoker_pr)\n",
    "print(f'Peluang perokok laki-laki adalah %.2f\\n'%smoker_lk)"
   ]
  },
  {
   "cell_type": "code",
   "execution_count": 69,
   "id": "c78fb762",
   "metadata": {},
   "outputs": [
    {
     "data": {
      "text/html": [
       "<div>\n",
       "<style scoped>\n",
       "    .dataframe tbody tr th:only-of-type {\n",
       "        vertical-align: middle;\n",
       "    }\n",
       "\n",
       "    .dataframe tbody tr th {\n",
       "        vertical-align: top;\n",
       "    }\n",
       "\n",
       "    .dataframe thead th {\n",
       "        text-align: right;\n",
       "    }\n",
       "</style>\n",
       "<table border=\"1\" class=\"dataframe\">\n",
       "  <thead>\n",
       "    <tr style=\"text-align: right;\">\n",
       "      <th></th>\n",
       "      <th>charges</th>\n",
       "    </tr>\n",
       "    <tr>\n",
       "      <th>region</th>\n",
       "      <th></th>\n",
       "    </tr>\n",
       "  </thead>\n",
       "  <tbody>\n",
       "    <tr>\n",
       "      <th>northeast</th>\n",
       "      <td>324</td>\n",
       "    </tr>\n",
       "    <tr>\n",
       "      <th>northwest</th>\n",
       "      <td>325</td>\n",
       "    </tr>\n",
       "    <tr>\n",
       "      <th>southeast</th>\n",
       "      <td>364</td>\n",
       "    </tr>\n",
       "    <tr>\n",
       "      <th>southwest</th>\n",
       "      <td>325</td>\n",
       "    </tr>\n",
       "  </tbody>\n",
       "</table>\n",
       "</div>"
      ],
      "text/plain": [
       "           charges\n",
       "region            \n",
       "northeast      324\n",
       "northwest      325\n",
       "southeast      364\n",
       "southwest      325"
      ]
     },
     "execution_count": 69,
     "metadata": {},
     "output_type": "execute_result"
    }
   ],
   "source": [
    "# 2.7 Bentuk distribusi tagihan tiap-tiap region\n",
    "insurance_data.groupby(['region']).count()[['charges']]"
   ]
  },
  {
   "cell_type": "code",
   "execution_count": 129,
   "id": "ec9f7b0a",
   "metadata": {},
   "outputs": [
    {
     "data": {
      "image/png": "[encoded data removed]",
      "text/plain": [
       "<Figure size 2160x720 with 4 Axes>"
      ]
     },
     "metadata": {
      "needs_background": "light"
     },
     "output_type": "display_data"
    }
   ],
   "source": [
    "plt.figure(figsize = (30,10))\n",
    "font = {'family': 'serif',\n",
    "       'color' : 'black',\n",
    "       'weight':'light',\n",
    "       'size': '16'}\n",
    "\n",
    "plt.subplot (2,4,1)\n",
    "northeast = insurance_data[insurance_data['region'] == 'northeast']\n",
    "northeast = northeast.drop(columns=['age', 'sex' ,'bmi', 'children', 'smoker' ])\n",
    "\n",
    "sns.histplot(data = northeast, x='charges', color='lightblue')\n",
    "plt.title('Northeast Charges')\n",
    "\n",
    "plt.subplot (2,4,2)\n",
    "northeast = insurance_data[insurance_data['region'] == 'northwest']\n",
    "northeast = northeast.drop(columns=['age', 'sex' ,'bmi', 'children', 'smoker' ])\n",
    "\n",
    "sns.histplot(data = northeast, x='charges', color='lightblue')\n",
    "plt.title('Northwest Charges')\n",
    "\n",
    "plt.subplot (2,4,3)\n",
    "northeast = insurance_data[insurance_data['region'] == 'southeast']\n",
    "northeast = northeast.drop(columns=['age', 'sex' ,'bmi', 'children', 'smoker' ])\n",
    "\n",
    "sns.histplot(data = northeast, x='charges', color='lightblue')\n",
    "plt.title('Southeast Charges')\n",
    "\n",
    "plt.subplot (2,4,4)\n",
    "northeast = insurance_data[insurance_data['region'] == 'southwest']\n",
    "northeast = northeast.drop(columns=['age', 'sex' ,'bmi', 'children', 'smoker' ])\n",
    "\n",
    "sns.histplot(data = northeast, x='charges', color='lightblue')\n",
    "plt.title('Southwest Charges')\n",
    "\n",
    "\n",
    "plt.show()"
   ]
  },
  {
   "cell_type": "markdown",
   "id": "b2a475b4",
   "metadata": {},
   "source": [
    "## **ANALISA VARIABEL KONTINU**"
   ]
  },
  {
   "cell_type": "code",
   "execution_count": 130,
   "id": "59868d44",
   "metadata": {},
   "outputs": [
    {
     "name": "stdout",
     "output_type": "stream",
     "text": [
      "Peluang x>1: 0.863\n",
      "Peluang x>1001: 0.845\n",
      "Peluang x>2001: 0.824\n",
      "Peluang x>3001: 0.802\n",
      "Peluang x>4001: 0.778\n",
      "Peluang x>5001: 0.753\n",
      "Peluang x>6001: 0.726\n",
      "Peluang x>7001: 0.698\n",
      "Peluang x>8001: 0.668\n",
      "Peluang x>9001: 0.638\n",
      "Peluang x>10001: 0.606\n",
      "Peluang x>11001: 0.574\n",
      "Peluang x>12001: 0.542\n",
      "Peluang x>13001: 0.509\n",
      "Peluang x>14001: 0.476\n",
      "Peluang x>15001: 0.443\n",
      "Peluang x>16001: 0.411\n"
     ]
    }
   ],
   "source": [
    "# Mencari peluang besar tagihan berdasarkan BMI\n",
    "condition = (insurance_data['bmi']>=insurance_data['bmi'].min()) & (insurance_data['bmi']<=insurance_data['bmi'].max())\n",
    "charges_bmi = insurance_data[condition]['charges']\n",
    "\n",
    "for i in range(1,16700,1000):\n",
    "  x = i\n",
    "  mean = charges_bmi.mean()\n",
    "  std = charges_bmi.std()\n",
    "  P = round(1 - norm.cdf(x, mean, std),3)\n",
    "  print(f'Peluang x>{x}: {P}')"
   ]
  },
  {
   "cell_type": "code",
   "execution_count": 108,
   "id": "492ad928",
   "metadata": {},
   "outputs": [
    {
     "name": "stdout",
     "output_type": "stream",
     "text": [
      "Peluang:0.957\n"
     ]
    }
   ],
   "source": [
    "# Mengetahui peluang seorang perokok dengan BMI diatas 25 akan mendapatkan tagihan kesehatan di atas 16.700.\n",
    "condition = (insurance_data['bmi']>25) & (insurance_data['smoker']=='yes')\n",
    "charges_bmi = insurance_data[condition]['charges']\n",
    "\n",
    "x = 16700\n",
    "mean = charges_bmi.mean()\n",
    "std = charges_bmi.std()\n",
    "P = 1 - norm.cdf(x, mean, std)\n",
    "print('Peluang:%.3f'% P)"
   ]
  },
  {
   "cell_type": "code",
   "execution_count": 109,
   "id": "1fd7bf93",
   "metadata": {},
   "outputs": [
    {
     "name": "stdout",
     "output_type": "stream",
     "text": [
      "Peluang:0.908\n"
     ]
    }
   ],
   "source": [
    "# Mengetahui peluang seseorang acak tagihan kesehatannya diatas 16.7k diketahui dia adalah perokok\n",
    "condition = (insurance_data['smoker']=='yes')\n",
    "charges_bmi = insurance_data[condition]['charges']\n",
    "\n",
    "x = 16700\n",
    "mean = charges_bmi.mean()\n",
    "std = charges_bmi.std()\n",
    "P = 1 - norm.cdf(x, mean, std)\n",
    "print('Peluang:%.3f'% P)"
   ]
  },
  {
   "cell_type": "code",
   "execution_count": 94,
   "id": "1c2868ff",
   "metadata": {},
   "outputs": [
    {
     "name": "stdout",
     "output_type": "stream",
     "text": [
      "Peluang seseorang memiliki BMI diatas 25 mendapat tagihan kesehatan diatas 16.7k: 0.415\n",
      "Peluang seseorang memiliki BMI dibawah 25 mendapat tagihan kesehatan diatas 16.7k:0.197\n"
     ]
    }
   ],
   "source": [
    "# Mengetahui perbandingan peluang seseorang dengan BMI diatas dan dibawah 25 mendapatkan tagihan kesehatan diatas 16.7k\n",
    "condition1 = (insurance_data['bmi']>25)\n",
    "charges_bmi1 = insurance_data[condition1]['charges']\n",
    "\n",
    "condition2 = (insurance_data['bmi']<25)\n",
    "charges_bmi2 = insurance_data[condition2]['charges']\n",
    "\n",
    "x = 16700\n",
    "mean1 = charges_bmi1.mean()\n",
    "std1 = charges_bmi1.std()\n",
    "mean2 = charges_bmi2.mean()\n",
    "std2 = charges_bmi2.std()\n",
    "P1 = 1 - norm.cdf(x, mean1, std1)\n",
    "P2 = 1 - norm.cdf(x, mean2, std2)\n",
    "print('Peluang seseorang memiliki BMI diatas 25 mendapat tagihan kesehatan diatas 16.7k: %.3f'% P1)\n",
    "print('Peluang seseorang memiliki BMI dibawah 25 mendapat tagihan kesehatan diatas 16.7k:%.3f'%P2)"
   ]
  },
  {
   "cell_type": "code",
   "execution_count": 97,
   "id": "a8f3a139",
   "metadata": {},
   "outputs": [
    {
     "name": "stdout",
     "output_type": "stream",
     "text": [
      "Peluang seseorang perokok memiliki BMI diatas 25 mendapat tagihan kesehatan diatas 16.7k:0.957\n",
      "Peluang seseorang non perokok memiliki BMI diatas 25 mendapat tagihan kesehatan diatas 16.7k:0.091\n"
     ]
    }
   ],
   "source": [
    "# Mengetahui perbandingan seseorang perokok dan non perokok dengan BMI diatas 25 mendapatkan tagihan kesehatan diatas 16.7k,\n",
    "condition1 = (insurance_data['bmi']>25) & (insurance_data['smoker']=='yes')\n",
    "charges_bmi1 = insurance_data[condition1]['charges']\n",
    "\n",
    "condition2 = (insurance_data['bmi']>25) & (insurance_data['smoker']=='no')\n",
    "charges_bmi2 = insurance_data[condition2]['charges']\n",
    "\n",
    "x = 16700\n",
    "mean1 = charges_bmi1.mean()\n",
    "std1 = charges_bmi1.std()\n",
    "mean2 = charges_bmi2.mean()\n",
    "std2 = charges_bmi2.std()\n",
    "P1 = 1 - norm.cdf(x, mean1, std1)\n",
    "P2 = 1 - norm.cdf(x, mean2, std2)\n",
    "print('Peluang seseorang perokok memiliki BMI diatas 25 mendapat tagihan kesehatan diatas 16.7k:%.3f'%P1)\n",
    "print('Peluang seseorang non perokok memiliki BMI diatas 25 mendapat tagihan kesehatan diatas 16.7k:%.3f'%P2)"
   ]
  },
  {
   "cell_type": "markdown",
   "id": "0df34876",
   "metadata": {},
   "source": [
    "## **ANALISA KORELASI VARIABEL**"
   ]
  },
  {
   "cell_type": "code",
   "execution_count": 135,
   "id": "5b85a86e",
   "metadata": {},
   "outputs": [
    {
     "data": {
      "image/png": "[encoded data removed]",
      "text/plain": [
       "<Figure size 1080x648 with 2 Axes>"
      ]
     },
     "metadata": {
      "needs_background": "light"
     },
     "output_type": "display_data"
    }
   ],
   "source": [
    "# Korelasi secara keseluruhan\n",
    "plt.figure(figsize=(15,9))\n",
    "sns.heatmap(insurance_data.corr(),annot=True, cmap = 'Greens', fmt = '.2f');\n",
    "plt.show()"
   ]
  },
  {
   "cell_type": "code",
   "execution_count": 118,
   "id": "9609f951",
   "metadata": {},
   "outputs": [
    {
     "data": {
      "image/png": "[encoded data removed]",
      "text/plain": [
       "<Figure size 432x288 with 1 Axes>"
      ]
     },
     "metadata": {
      "needs_background": "light"
     },
     "output_type": "display_data"
    }
   ],
   "source": [
    "smoker_data = insurance_data[insurance_data[\"smoker\"] == \"yes\"]\n",
    "sns.regplot(x=smoker_data[\"bmi\"],\n",
    "            y=smoker_data[\"charges\"], \n",
    "            data=smoker_data,\n",
    "            ci=None,\n",
    "            scatter_kws={\"color\": \"green\"}, line_kws={\"color\": \"black\"});\n",
    "plt.show()"
   ]
  },
  {
   "cell_type": "code",
   "execution_count": null,
   "id": "dfded94b",
   "metadata": {},
   "outputs": [],
   "source": []
  },
  {
   "cell_type": "markdown",
   "id": "f9fcf8a6",
   "metadata": {},
   "source": [
    "## **UJI HIPOTESIS**"
   ]
  },
  {
   "cell_type": "code",
   "execution_count": 99,
   "id": "1127ea67",
   "metadata": {},
   "outputs": [
    {
     "name": "stdout",
     "output_type": "stream",
     "text": [
      "Jumlah sampel perokok 30\n",
      "Jumlah sampel non perokok 30\n",
      "Critical Value:1.70\n",
      "Statistics = 9.1843, p-value = 0.0000000000075\n",
      "Two group means are different (Tolak H0)\n"
     ]
    }
   ],
   "source": [
    "# Mengambil sampel dari populasi perokok dan non perokok sebanyak 30 sampel\n",
    "s_data1 = insurance_data.charges[insurance_data['smoker']=='yes'].sample(n=30,random_state=123) \n",
    "s_data2 = insurance_data.charges[insurance_data['smoker']=='no'].sample(n=30,random_state=123)\n",
    "\n",
    "print('Jumlah sampel perokok',s_data1.count()) \n",
    "print('Jumlah sampel non perokok',s_data2.count())\n",
    "\n",
    "# Nilai Significance Level\n",
    "alpha = 0.05\n",
    "\n",
    "# Nilai Critical Value berdasarkan critical t dari t-table dengan nilai alpha 0.05 dan degree of freedom 29 (df = n-1)\n",
    "t_crit = -t.ppf(alpha,df=29)\n",
    "print('Critical Value:%.2f'%(t_crit))\n",
    "\n",
    "stat, p = ttest_ind(a = s_data1, b = s_data2, equal_var=False, alternative='greater') # eaual_var= False karena varians kedua populasi berbeda\n",
    "\n",
    "# Interpretasi Hasil\n",
    "print('Statistics = %.4f, p-value = %.13f' % (stat, p))\n",
    "\n",
    "# Pengambilan Keputusan\n",
    "if p > alpha:\n",
    "    print('Two group means are equal (Gagal tolak H0)') \n",
    "else:\n",
    "    print('Two group means are different (Tolak H0)')"
   ]
  },
  {
   "cell_type": "code",
   "execution_count": 136,
   "id": "81be35e1",
   "metadata": {},
   "outputs": [
    {
     "data": {
      "text/plain": [
       "0.7721175909265185"
      ]
     },
     "execution_count": 136,
     "metadata": {},
     "output_type": "execute_result"
    }
   ],
   "source": [
    "p"
   ]
  },
  {
   "cell_type": "markdown",
   "id": "7edb7214",
   "metadata": {},
   "source": [
    "Maka dapat kita simpulkan bahwa Tagihan Perokok lebih besar dari Tagihan Non Perokok. Dari pengujian hipotesis diatas, kita mengambil kesimpulan bahwa Tagihan Perokok diatas rata rata Tagihan Non Perokok."
   ]
  },
  {
   "cell_type": "code",
   "execution_count": 101,
   "id": "4a3774c0",
   "metadata": {},
   "outputs": [
    {
     "name": "stdout",
     "output_type": "stream",
     "text": [
      "Jumlah sampel bmi diatas 25: 30\n",
      "Jumlah sampel bmi dibawah 25: 30\n",
      "Critical Value:1.70\n",
      "Statistics = 1.1712, p-value = 0.1234\n",
      "Two group means are equal (Gagal tolak H0)\n"
     ]
    }
   ],
   "source": [
    "# Mengambil sampel dari populasi BMI diatas 25 dan BMI dibawah 25 sebanyak 30 sampel\n",
    "s_bmi1 = insurance_data.charges[insurance_data['bmi']>25].sample(n=30,random_state=123) \n",
    "s_bmi2 = insurance_data.charges[insurance_data['bmi']<25].sample(n=30,random_state=123)\n",
    "\n",
    "print('Jumlah sampel bmi diatas 25:',s_bmi1.count()) \n",
    "print('Jumlah sampel bmi dibawah 25:',s_bmi2.count())\n",
    "\n",
    "alpha = 0.05\n",
    "\n",
    "# Nilai Critical Value berdasarkan critical t dari t-table dengan nilai alpha 0.05 dan degree of freedom 29 (df = n-1)\n",
    "t_crit = -t.ppf(alpha,df=29)\n",
    "print('Critical Value:%.2f'%(t_crit))\n",
    "\n",
    "stat, p = ttest_ind(a = s_bmi1, b = s_bmi2, equal_var=False, alternative='greater') # eaual_var= False karena varians kedua populasi berbeda\n",
    "\n",
    "# Interpretasi Hasil\n",
    "print('Statistics = %.4f, p-value = %.4f' % (stat, p))\n",
    "\n",
    "# Pengambilan Keputusan\n",
    "if p > alpha:\n",
    "    print('Two group means are equal (Gagal tolak H0)') \n",
    "else:\n",
    "    print('Two group means are different (Tolak H0)')"
   ]
  },
  {
   "cell_type": "markdown",
   "id": "ccefdb27",
   "metadata": {},
   "source": [
    "Maka dapat kita simpulkan bahwa Tagihan Kesehatan BMI diatas 25 lebih kecil dari Tagihan Kesehatan BMI dibawah 25. Dari pengujian hipotesis diatas, kita mengambil kesimpulan bahwa Tagihan Kesehatan BMI yang lebih dari 25 berada dibawah rata rata Tagihan Kesehatan BMI yang kurang dari 25."
   ]
  },
  {
   "cell_type": "code",
   "execution_count": 102,
   "id": "2186602e",
   "metadata": {},
   "outputs": [
    {
     "name": "stdout",
     "output_type": "stream",
     "text": [
      "Jumlah sampel bmi laki-laki: 30\n",
      "Jumlah sampel bmi perempuan: 30\n",
      "\n",
      "Critical Value:1.70\n",
      "Statistics = -0.7510, p-value = 0.7721\n",
      "Two group means are equal (Gagal tolak H0)\n"
     ]
    }
   ],
   "source": [
    "# Data\n",
    "s_clk = insurance_data.charges[insurance_data['sex']=='male'].sample(n=30,random_state=123)\n",
    "s_cpr = insurance_data.charges[insurance_data['sex']=='female'].sample(n=30,random_state=123)\n",
    "print('Jumlah sampel bmi laki-laki:',s_clk.count()) \n",
    "print('Jumlah sampel bmi perempuan:',s_cpr.count())\n",
    "\n",
    "# Significance level\n",
    "alpha = 0.05\n",
    "\n",
    "# Aturan keputusan\n",
    "t_crit = -t.ppf(alpha,df=29)\n",
    "print('\\nCritical Value:%.2f'%(t_crit))\n",
    "\n",
    "# Hitung uji hipothesis\n",
    "stat, p = ttest_ind(a = s_clk, b = s_cpr, equal_var=False, alternative='greater') # eaual_var= False karena varians kedua populasi berbeda\n",
    "print('Statistics = %.4f, p-value = %.4f' % (stat, p)) \n",
    "\n",
    "# Pengambilan Keputusan\n",
    "if p > alpha:\n",
    "    print('Two group means are equal (Gagal tolak H0)') \n",
    "else:\n",
    "    print('Two group means are different (Tolak H0)')"
   ]
  },
  {
   "cell_type": "markdown",
   "id": "c4e2aaf1",
   "metadata": {},
   "source": [
    "Maka dapat kita simpulkan bahwa Tagihan Kesehatan Laki-Laki lebih kecil dari Tagihan Kesehatan Perempuan. Dari pengujian hipotesis diatas, kita mengambil kesimpulan bahwa Tagihan Kesehatan Laki-Laki berada dibawah rata rata Tagihan Kesehatan Perempuan."
   ]
  }
 ],
 "metadata": {
  "kernelspec": {
   "display_name": "Python 3 (ipykernel)",
   "language": "python",
   "name": "python3"
  },
  "language_info": {
   "codemirror_mode": {
    "name": "ipython",
    "version": 3
   },
   "file_extension": ".py",
   "mimetype": "text/x-python",
   "name": "python",
   "nbconvert_exporter": "python",
   "pygments_lexer": "ipython3",
   "version": "3.9.7"
  }
 },
 "nbformat": 4,
 "nbformat_minor": 5
}
